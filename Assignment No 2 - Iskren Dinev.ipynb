{
 "cells": [
  {
   "cell_type": "markdown",
   "id": "dd7f1f98-c5b5-4835-b725-b161cbb25da5",
   "metadata": {},
   "source": [
    "# **Assignment No 2 - Iskren Dinev**\n",
    "## Student Code - 200013533\n",
    "### GitHub URL - https://github.com/IskrenDinev/PY4SA23_Assignment.git"
   ]
  },
  {
   "cell_type": "markdown",
   "id": "57e876d5-eb88-4fae-a48b-42d98bf249fe",
   "metadata": {},
   "source": [
    "**Python Basics**"
   ]
  },
  {
   "cell_type": "markdown",
   "id": "87507f5e-ed4b-4c95-8ee4-fdcf5ca6dd26",
   "metadata": {},
   "source": [
    "Task 1: Create an If...Else statement that will test whether a number is divisible by three. \"YOUR \n",
    "VALUE is divisible by 3\" should be printed if the value is divisible by three. \"YOUR VALUE is not \n",
    "divisible by three\" should be printed if it is not divisible by three. Test the statement on a numeric \n",
    "variable. Upper case text in the print statement should be replaced with the tested number."
   ]
  },
  {
   "cell_type": "code",
   "execution_count": 1,
   "id": "90c14c10-bfa5-458a-8970-c4cc347873e0",
   "metadata": {},
   "outputs": [
    {
     "name": "stdout",
     "output_type": "stream",
     "text": [
      "355 is not divisible by three\n"
     ]
    }
   ],
   "source": [
    "#Assigning a value - tested number\n",
    "value = 355\n",
    "\n",
    "#Coding to find out whether a number is divisible by 3\n",
    "if value % 3 == 0:\n",
    "    print(str(value)+\" is divisible by 3\")\n",
    "else:\n",
    "    print(str(value)+\" is not divisible by three\")"
   ]
  },
  {
   "cell_type": "markdown",
   "id": "1a8abe3f-11ce-4445-bfae-34d37bc9fac0",
   "metadata": {},
   "source": [
    "Task 2: Create an If...Else statement that will test whether a type of fruit, represented as a text string, \n",
    "is in a list of acceptable fruits (apple, orange, pear, kiwi, or strawberry). If the fruit is on the list, the \n",
    "following should be printed: \"YOUR FRUIT is acceptable.\" If not, then the following should be \n",
    "printed: \"YOUR FRUIT is not acceptable.\" Upper case text in the print statement should be replaced \n",
    "with the tested fruit."
   ]
  },
  {
   "cell_type": "code",
   "execution_count": 2,
   "id": "7ed1aae7-b77b-4214-a463-f56e2e121401",
   "metadata": {},
   "outputs": [
    {
     "name": "stdout",
     "output_type": "stream",
     "text": [
      "peach is not acceptable\n"
     ]
    }
   ],
   "source": [
    "#Assigning a fruit value\n",
    "fruit = \"peach\"\n",
    "\n",
    "#Creating a fruit string\n",
    "fruit_list = [\"apple\", \"orange\", \"pear\", \"kiwi\", \"strawberry\", \"banana\"]\n",
    "\n",
    "#Creating the code to check if the fruit is in the fruit list\n",
    "if fruit in fruit_list:\n",
    "    print(str(fruit)+\" is acceptable\")\n",
    "else:\n",
    "    print(str(fruit)+\" is not acceptable\")\n"
   ]
  },
  {
   "cell_type": "markdown",
   "id": "95378cb1-2f04-45b3-ba1c-f80a7e1dba24",
   "metadata": {},
   "source": [
    "Task 3: Create a function to calculate the distance between two coordinates using the haversine\n",
    "formula. Write the following formula where the input parameters are a pair of coordinates as two \n",
    "lists"
   ]
  },
  {
   "cell_type": "code",
   "execution_count": 18,
   "id": "5e095dae-7b11-4b6f-a408-bb95ad29e34e",
   "metadata": {},
   "outputs": [
    {
     "name": "stdout",
     "output_type": "stream",
     "text": [
      "Requirement already satisfied: haversine in c:\\users\\iskre\\miniconda3\\envs\\py4sa\\lib\\site-packages (2.8.0)"
     ]
    },
    {
     "data": {
      "text/plain": [
       "2475.806754272166"
      ]
     },
     "execution_count": 18,
     "metadata": {},
     "output_type": "execute_result"
    },
    {
     "name": "stdout",
     "output_type": "stream",
     "text": [
      "\n"
     ]
    }
   ],
   "source": [
    "!pip install haversine\n",
    "import haversine as hs\n",
    "\n",
    "#Coordinates for Yambol (lstY) and Skelmerdale (lstS)\n",
    "lstY = (42.4842, 26.5035)\n",
    "lstS = (53.5493, -2.7747)\n",
    "\n",
    "#Calculating the Distance\n",
    "hs.haversine(lstY, lstS)"
   ]
  },
  {
   "cell_type": "markdown",
   "id": "ec1c7777-8de7-4927-8a14-10b97aa71964",
   "metadata": {},
   "source": [
    "**Pandas and NumPy**"
   ]
  },
  {
   "cell_type": "markdown",
   "id": "72120f63-df4b-44e9-a237-085e5e976093",
   "metadata": {},
   "source": [
    "Question 1: How many trees are of the Quercus or Acer genus?"
   ]
  },
  {
   "cell_type": "code",
   "execution_count": 27,
   "id": "80820d8b-21e7-4610-92b4-af9fe314648c",
   "metadata": {},
   "outputs": [
    {
     "data": {
      "text/html": [
       "<div>\n",
       "<style scoped>\n",
       "    .dataframe tbody tr th:only-of-type {\n",
       "        vertical-align: middle;\n",
       "    }\n",
       "\n",
       "    .dataframe tbody tr th {\n",
       "        vertical-align: top;\n",
       "    }\n",
       "\n",
       "    .dataframe thead th {\n",
       "        text-align: right;\n",
       "    }\n",
       "</style>\n",
       "<table border=\"1\" class=\"dataframe\">\n",
       "  <thead>\n",
       "    <tr style=\"text-align: right;\">\n",
       "      <th></th>\n",
       "      <th>fid</th>\n",
       "      <th>OBJECTID</th>\n",
       "      <th>Inventory_</th>\n",
       "      <th>Species</th>\n",
       "      <th>DBH</th>\n",
       "      <th>Condition</th>\n",
       "      <th>TreeHeight</th>\n",
       "      <th>CrownWidth</th>\n",
       "      <th>CrownWid_1</th>\n",
       "      <th>CollectedB</th>\n",
       "      <th>...</th>\n",
       "      <th>Genus</th>\n",
       "      <th>Common_nam</th>\n",
       "      <th>Genus_spec</th>\n",
       "      <th>Functional</th>\n",
       "      <th>Size</th>\n",
       "      <th>Native</th>\n",
       "      <th>Edible</th>\n",
       "      <th>Nuisance</th>\n",
       "      <th>Origin</th>\n",
       "      <th>Species_fa</th>\n",
       "    </tr>\n",
       "  </thead>\n",
       "  <tbody>\n",
       "    <tr>\n",
       "      <th>0</th>\n",
       "      <td>1</td>\n",
       "      <td>426</td>\n",
       "      <td>2017/05/09</td>\n",
       "      <td>PSME</td>\n",
       "      <td>37.4</td>\n",
       "      <td>Fair</td>\n",
       "      <td>105.0</td>\n",
       "      <td>44.0</td>\n",
       "      <td>57.0</td>\n",
       "      <td>staff</td>\n",
       "      <td>...</td>\n",
       "      <td>Pseudotsuga</td>\n",
       "      <td>Douglas-fir</td>\n",
       "      <td>Pseudotsuga menziesii</td>\n",
       "      <td>CE</td>\n",
       "      <td>L</td>\n",
       "      <td>Yes</td>\n",
       "      <td>NaN</td>\n",
       "      <td>NaN</td>\n",
       "      <td>North America - from British Columbia south to...</td>\n",
       "      <td>Bracts on cones look like a mouse's feet and t...</td>\n",
       "    </tr>\n",
       "    <tr>\n",
       "      <th>1</th>\n",
       "      <td>2</td>\n",
       "      <td>427</td>\n",
       "      <td>2017/05/09</td>\n",
       "      <td>PSME</td>\n",
       "      <td>32.5</td>\n",
       "      <td>Fair</td>\n",
       "      <td>94.0</td>\n",
       "      <td>49.0</td>\n",
       "      <td>45.0</td>\n",
       "      <td>staff</td>\n",
       "      <td>...</td>\n",
       "      <td>Pseudotsuga</td>\n",
       "      <td>Douglas-fir</td>\n",
       "      <td>Pseudotsuga menziesii</td>\n",
       "      <td>CE</td>\n",
       "      <td>L</td>\n",
       "      <td>Yes</td>\n",
       "      <td>NaN</td>\n",
       "      <td>NaN</td>\n",
       "      <td>North America - from British Columbia south to...</td>\n",
       "      <td>Bracts on cones look like a mouse's feet and t...</td>\n",
       "    </tr>\n",
       "    <tr>\n",
       "      <th>2</th>\n",
       "      <td>3</td>\n",
       "      <td>428</td>\n",
       "      <td>2017/05/09</td>\n",
       "      <td>CRLA</td>\n",
       "      <td>9.7</td>\n",
       "      <td>Fair</td>\n",
       "      <td>23.0</td>\n",
       "      <td>28.0</td>\n",
       "      <td>27.0</td>\n",
       "      <td>staff</td>\n",
       "      <td>...</td>\n",
       "      <td>Crataegus</td>\n",
       "      <td>Lavalle hawthorn</td>\n",
       "      <td>Crataegus x lavalleei</td>\n",
       "      <td>BD</td>\n",
       "      <td>S</td>\n",
       "      <td>No</td>\n",
       "      <td>NaN</td>\n",
       "      <td>NaN</td>\n",
       "      <td>North America - a hybrid between a Mexican and...</td>\n",
       "      <td>Like most hawthorns, the tree has stout thorns...</td>\n",
       "    </tr>\n",
       "    <tr>\n",
       "      <th>3</th>\n",
       "      <td>4</td>\n",
       "      <td>429</td>\n",
       "      <td>2017/05/09</td>\n",
       "      <td>QURU</td>\n",
       "      <td>10.3</td>\n",
       "      <td>Poor</td>\n",
       "      <td>28.0</td>\n",
       "      <td>38.0</td>\n",
       "      <td>31.0</td>\n",
       "      <td>staff</td>\n",
       "      <td>...</td>\n",
       "      <td>Quercus</td>\n",
       "      <td>northern red oak</td>\n",
       "      <td>Quercus rubra</td>\n",
       "      <td>BD</td>\n",
       "      <td>L</td>\n",
       "      <td>No</td>\n",
       "      <td>NaN</td>\n",
       "      <td>NaN</td>\n",
       "      <td>North America - eastern Canada and eastern USA...</td>\n",
       "      <td>Acorns take two years to mature and are an imp...</td>\n",
       "    </tr>\n",
       "    <tr>\n",
       "      <th>4</th>\n",
       "      <td>5</td>\n",
       "      <td>430</td>\n",
       "      <td>2017/05/09</td>\n",
       "      <td>PSME</td>\n",
       "      <td>33.2</td>\n",
       "      <td>Fair</td>\n",
       "      <td>102.0</td>\n",
       "      <td>43.0</td>\n",
       "      <td>44.0</td>\n",
       "      <td>staff</td>\n",
       "      <td>...</td>\n",
       "      <td>Pseudotsuga</td>\n",
       "      <td>Douglas-fir</td>\n",
       "      <td>Pseudotsuga menziesii</td>\n",
       "      <td>CE</td>\n",
       "      <td>L</td>\n",
       "      <td>Yes</td>\n",
       "      <td>NaN</td>\n",
       "      <td>NaN</td>\n",
       "      <td>North America - from British Columbia south to...</td>\n",
       "      <td>Bracts on cones look like a mouse's feet and t...</td>\n",
       "    </tr>\n",
       "    <tr>\n",
       "      <th>5</th>\n",
       "      <td>6</td>\n",
       "      <td>431</td>\n",
       "      <td>2017/05/09</td>\n",
       "      <td>PSME</td>\n",
       "      <td>32.1</td>\n",
       "      <td>Fair</td>\n",
       "      <td>95.0</td>\n",
       "      <td>35.0</td>\n",
       "      <td>39.0</td>\n",
       "      <td>staff</td>\n",
       "      <td>...</td>\n",
       "      <td>Pseudotsuga</td>\n",
       "      <td>Douglas-fir</td>\n",
       "      <td>Pseudotsuga menziesii</td>\n",
       "      <td>CE</td>\n",
       "      <td>L</td>\n",
       "      <td>Yes</td>\n",
       "      <td>NaN</td>\n",
       "      <td>NaN</td>\n",
       "      <td>North America - from British Columbia south to...</td>\n",
       "      <td>Bracts on cones look like a mouse's feet and t...</td>\n",
       "    </tr>\n",
       "    <tr>\n",
       "      <th>6</th>\n",
       "      <td>7</td>\n",
       "      <td>432</td>\n",
       "      <td>2017/05/09</td>\n",
       "      <td>PSME</td>\n",
       "      <td>28.4</td>\n",
       "      <td>Fair</td>\n",
       "      <td>103.0</td>\n",
       "      <td>40.0</td>\n",
       "      <td>40.0</td>\n",
       "      <td>staff</td>\n",
       "      <td>...</td>\n",
       "      <td>Pseudotsuga</td>\n",
       "      <td>Douglas-fir</td>\n",
       "      <td>Pseudotsuga menziesii</td>\n",
       "      <td>CE</td>\n",
       "      <td>L</td>\n",
       "      <td>Yes</td>\n",
       "      <td>NaN</td>\n",
       "      <td>NaN</td>\n",
       "      <td>North America - from British Columbia south to...</td>\n",
       "      <td>Bracts on cones look like a mouse's feet and t...</td>\n",
       "    </tr>\n",
       "    <tr>\n",
       "      <th>7</th>\n",
       "      <td>8</td>\n",
       "      <td>433</td>\n",
       "      <td>2017/05/09</td>\n",
       "      <td>PSME</td>\n",
       "      <td>27.2</td>\n",
       "      <td>Fair</td>\n",
       "      <td>105.0</td>\n",
       "      <td>45.0</td>\n",
       "      <td>29.0</td>\n",
       "      <td>staff</td>\n",
       "      <td>...</td>\n",
       "      <td>Pseudotsuga</td>\n",
       "      <td>Douglas-fir</td>\n",
       "      <td>Pseudotsuga menziesii</td>\n",
       "      <td>CE</td>\n",
       "      <td>L</td>\n",
       "      <td>Yes</td>\n",
       "      <td>NaN</td>\n",
       "      <td>NaN</td>\n",
       "      <td>North America - from British Columbia south to...</td>\n",
       "      <td>Bracts on cones look like a mouse's feet and t...</td>\n",
       "    </tr>\n",
       "    <tr>\n",
       "      <th>8</th>\n",
       "      <td>9</td>\n",
       "      <td>434</td>\n",
       "      <td>2017/05/09</td>\n",
       "      <td>PSME</td>\n",
       "      <td>35.2</td>\n",
       "      <td>Fair</td>\n",
       "      <td>97.0</td>\n",
       "      <td>56.0</td>\n",
       "      <td>45.0</td>\n",
       "      <td>staff</td>\n",
       "      <td>...</td>\n",
       "      <td>Pseudotsuga</td>\n",
       "      <td>Douglas-fir</td>\n",
       "      <td>Pseudotsuga menziesii</td>\n",
       "      <td>CE</td>\n",
       "      <td>L</td>\n",
       "      <td>Yes</td>\n",
       "      <td>NaN</td>\n",
       "      <td>NaN</td>\n",
       "      <td>North America - from British Columbia south to...</td>\n",
       "      <td>Bracts on cones look like a mouse's feet and t...</td>\n",
       "    </tr>\n",
       "    <tr>\n",
       "      <th>9</th>\n",
       "      <td>10</td>\n",
       "      <td>435</td>\n",
       "      <td>2017/05/09</td>\n",
       "      <td>PSME</td>\n",
       "      <td>32.4</td>\n",
       "      <td>Fair</td>\n",
       "      <td>112.0</td>\n",
       "      <td>35.0</td>\n",
       "      <td>33.0</td>\n",
       "      <td>staff</td>\n",
       "      <td>...</td>\n",
       "      <td>Pseudotsuga</td>\n",
       "      <td>Douglas-fir</td>\n",
       "      <td>Pseudotsuga menziesii</td>\n",
       "      <td>CE</td>\n",
       "      <td>L</td>\n",
       "      <td>Yes</td>\n",
       "      <td>NaN</td>\n",
       "      <td>NaN</td>\n",
       "      <td>North America - from British Columbia south to...</td>\n",
       "      <td>Bracts on cones look like a mouse's feet and t...</td>\n",
       "    </tr>\n",
       "  </tbody>\n",
       "</table>\n",
       "<p>10 rows × 40 columns</p>\n",
       "</div>"
      ],
      "text/plain": [
       "   fid  OBJECTID  Inventory_ Species   DBH Condition  TreeHeight  CrownWidth  \\\n",
       "0    1       426  2017/05/09    PSME  37.4      Fair       105.0        44.0   \n",
       "1    2       427  2017/05/09    PSME  32.5      Fair        94.0        49.0   \n",
       "2    3       428  2017/05/09    CRLA   9.7      Fair        23.0        28.0   \n",
       "3    4       429  2017/05/09    QURU  10.3      Poor        28.0        38.0   \n",
       "4    5       430  2017/05/09    PSME  33.2      Fair       102.0        43.0   \n",
       "5    6       431  2017/05/09    PSME  32.1      Fair        95.0        35.0   \n",
       "6    7       432  2017/05/09    PSME  28.4      Fair       103.0        40.0   \n",
       "7    8       433  2017/05/09    PSME  27.2      Fair       105.0        45.0   \n",
       "8    9       434  2017/05/09    PSME  35.2      Fair        97.0        56.0   \n",
       "9   10       435  2017/05/09    PSME  32.4      Fair       112.0        35.0   \n",
       "\n",
       "   CrownWid_1 CollectedB  ...        Genus        Common_nam  \\\n",
       "0        57.0      staff  ...  Pseudotsuga       Douglas-fir   \n",
       "1        45.0      staff  ...  Pseudotsuga       Douglas-fir   \n",
       "2        27.0      staff  ...    Crataegus  Lavalle hawthorn   \n",
       "3        31.0      staff  ...      Quercus  northern red oak   \n",
       "4        44.0      staff  ...  Pseudotsuga       Douglas-fir   \n",
       "5        39.0      staff  ...  Pseudotsuga       Douglas-fir   \n",
       "6        40.0      staff  ...  Pseudotsuga       Douglas-fir   \n",
       "7        29.0      staff  ...  Pseudotsuga       Douglas-fir   \n",
       "8        45.0      staff  ...  Pseudotsuga       Douglas-fir   \n",
       "9        33.0      staff  ...  Pseudotsuga       Douglas-fir   \n",
       "\n",
       "              Genus_spec Functional Size Native Edible Nuisance  \\\n",
       "0  Pseudotsuga menziesii         CE    L    Yes    NaN      NaN   \n",
       "1  Pseudotsuga menziesii         CE    L    Yes    NaN      NaN   \n",
       "2  Crataegus x lavalleei         BD    S     No    NaN      NaN   \n",
       "3          Quercus rubra         BD    L     No    NaN      NaN   \n",
       "4  Pseudotsuga menziesii         CE    L    Yes    NaN      NaN   \n",
       "5  Pseudotsuga menziesii         CE    L    Yes    NaN      NaN   \n",
       "6  Pseudotsuga menziesii         CE    L    Yes    NaN      NaN   \n",
       "7  Pseudotsuga menziesii         CE    L    Yes    NaN      NaN   \n",
       "8  Pseudotsuga menziesii         CE    L    Yes    NaN      NaN   \n",
       "9  Pseudotsuga menziesii         CE    L    Yes    NaN      NaN   \n",
       "\n",
       "                                              Origin  \\\n",
       "0  North America - from British Columbia south to...   \n",
       "1  North America - from British Columbia south to...   \n",
       "2  North America - a hybrid between a Mexican and...   \n",
       "3  North America - eastern Canada and eastern USA...   \n",
       "4  North America - from British Columbia south to...   \n",
       "5  North America - from British Columbia south to...   \n",
       "6  North America - from British Columbia south to...   \n",
       "7  North America - from British Columbia south to...   \n",
       "8  North America - from British Columbia south to...   \n",
       "9  North America - from British Columbia south to...   \n",
       "\n",
       "                                          Species_fa  \n",
       "0  Bracts on cones look like a mouse's feet and t...  \n",
       "1  Bracts on cones look like a mouse's feet and t...  \n",
       "2  Like most hawthorns, the tree has stout thorns...  \n",
       "3  Acorns take two years to mature and are an imp...  \n",
       "4  Bracts on cones look like a mouse's feet and t...  \n",
       "5  Bracts on cones look like a mouse's feet and t...  \n",
       "6  Bracts on cones look like a mouse's feet and t...  \n",
       "7  Bracts on cones look like a mouse's feet and t...  \n",
       "8  Bracts on cones look like a mouse's feet and t...  \n",
       "9  Bracts on cones look like a mouse's feet and t...  \n",
       "\n",
       "[10 rows x 40 columns]"
      ]
     },
     "execution_count": 27,
     "metadata": {},
     "output_type": "execute_result"
    }
   ],
   "source": [
    "import pandas as pd\n",
    "\n",
    "trees_df = pd.read_csv(\"Assignment 2 Data/portland_park_trees.csv\", sep=\",\", header=0)\n",
    "trees_df.head(10)"
   ]
  },
  {
   "cell_type": "code",
   "execution_count": 34,
   "id": "23eaa7fa-49cf-4b25-bd8d-6afaccd71c55",
   "metadata": {},
   "outputs": [
    {
     "name": "stdout",
     "output_type": "stream",
     "text": [
      "Number of Quercus trees:\n",
      "2089\n",
      " \n",
      "Number of Acer trees:\n",
      "3586\n",
      " \n",
      "Number of Acer and Quercus trees:\n",
      "5675\n"
     ]
    }
   ],
   "source": [
    "#How many Quercus trees\n",
    "just_quercus = trees_df[trees_df[\"Genus\"]==\"Quercus\"]\n",
    "print(\"Number of Quercus trees:\")\n",
    "print(len(just_quercus))\n",
    "print(' ')\n",
    "\n",
    "#How many Acer trees\n",
    "just_acer = trees_df[trees_df[\"Genus\"]==\"Acer\"]\n",
    "print(\"Number of Acer trees:\")\n",
    "print(len(just_acer))\n",
    "print(' ')\n",
    "\n",
    "#How many Quercus and Acer trees\n",
    "print(\"Number of Acer and Quercus trees:\")\n",
    "print(len(just_acer)+len(just_quercus))\n"
   ]
  },
  {
   "cell_type": "markdown",
   "id": "2a2d74bc-0af7-4c14-ae87-71f802117feb",
   "metadata": {},
   "source": [
    "Question 2: How many trees are of the Quercus or Acer genus and have a DBH larger than 50 inches?"
   ]
  },
  {
   "cell_type": "code",
   "execution_count": 35,
   "id": "d18cfd7b-cab3-4a7e-9778-586c693c4318",
   "metadata": {},
   "outputs": [
    {
     "name": "stdout",
     "output_type": "stream",
     "text": [
      "Number of Quercus trees with a DBH of 50+ inches\n",
      "80\n",
      " \n",
      "Number of Acer trees with a DBH of 50+ inches\n",
      "44\n",
      " \n",
      "Number of Quercus and Acer trees with a DBH of 50+ inches\n",
      "124\n"
     ]
    }
   ],
   "source": [
    "#How many Quercus trees with DBH of 50+ inch\n",
    "quercus_dbh50 = trees_df.query('Genus==\"Quercus\" and DBH > 50')\n",
    "print(\"Number of Quercus trees with a DBH of 50+ inches\")\n",
    "print(len(quercus_dbh50))\n",
    "print(' ')\n",
    "\n",
    "#How many Acer trees with DBH of 50+ inch\n",
    "acer_dbh50 = trees_df.query('Genus==\"Acer\" and DBH > 50')\n",
    "print(\"Number of Acer trees with a DBH of 50+ inches\")\n",
    "print(len(acer_dbh50))\n",
    "print(' ')\n",
    "\n",
    "#How many Acer and Quercus trees with DBH of 50+ inch\n",
    "print(\"Number of Quercus and Acer trees with a DBH of 50+ inches\")\n",
    "print(len(quercus_dbh50)+len(acer_dbh50))"
   ]
  },
  {
   "cell_type": "markdown",
   "id": "32d40a4a-66c2-4b0f-8c18-5fa12abd8662",
   "metadata": {},
   "source": [
    "Question 3: Which genus has the highest mean DBH of the following genera: Quercus, Acer, or Fraxinus? "
   ]
  },
  {
   "cell_type": "code",
   "execution_count": 56,
   "id": "3040e0be-9148-49e2-9444-67f526d5c283",
   "metadata": {},
   "outputs": [
    {
     "name": "stdout",
     "output_type": "stream",
     "text": [
      "[['Quercus DBH mean', 23.56823839157492], ['Acer DBH mean', 18.419085331846066], ['Fraxinus DBH mean', 11.033609693877551]]\n"
     ]
    }
   ],
   "source": [
    "#Mean DBH for Quercus\n",
    "just_quercus = trees_df[trees_df[\"Genus\"]==\"Quercus\"]\n",
    "quercus_mean = just_quercus[\"DBH\"].mean()\n",
    "\n",
    "#Mean DBH for Acer\n",
    "just_acer = trees_df[trees_df[\"Genus\"]==\"Acer\"]\n",
    "acer_mean = just_acer[\"DBH\"].mean()\n",
    "\n",
    "#Mean DBH for Fraxinus\n",
    "just_fraxinus = trees_df[trees_df[\"Genus\"]==\"Fraxinus\"]\n",
    "fraxinus_mean = just_fraxinus[\"DBH\"].mean()\n",
    "\n",
    "#Which gensus has the highest mean DBH\n",
    "#Creating a list with all genera\n",
    "mean_list = [\n",
    "    ['Acer DBH mean', acer_mean],\n",
    "    ['Quercus DBH mean', quercus_mean],\n",
    "    ['Fraxinus DBH mean', fraxinus_mean]\n",
    "]\n",
    "\n",
    "#Sorting the genera based on the second value\n",
    "def sort_mean(x):\n",
    "    return x[1]\n",
    "sorted_mean = sorted(mean_list, key=sort_mean, reverse=True)\n",
    "print(sorted_mean)\n",
    "\n",
    "#The print shows that quercus has the highest DBH mean"
   ]
  },
  {
   "cell_type": "markdown",
   "id": "b9538aec-8570-4810-a786-1c77f3feca06",
   "metadata": {},
   "source": [
    "Question 4: How many different species of trees are recorded in the Acer genus?"
   ]
  },
  {
   "cell_type": "code",
   "execution_count": 59,
   "id": "19816764-e6b3-443c-a81b-66b3b283ad22",
   "metadata": {},
   "outputs": [
    {
     "name": "stdout",
     "output_type": "stream",
     "text": [
      "20\n"
     ]
    }
   ],
   "source": [
    "just_acer = trees_df[trees_df[\"Genus\"]==\"Acer\"]\n",
    "grouped_species = just_acer.groupby(\"Genus_spec\")[\"Genus_spec\"].describe()\n",
    "counted_species = (len(grouped_species))\n",
    "print(counted_species)"
   ]
  },
  {
   "cell_type": "markdown",
   "id": "c7173616-ec32-40b0-9669-a67db874b9bb",
   "metadata": {},
   "source": [
    "Question 5: World Cities"
   ]
  },
  {
   "cell_type": "code",
   "execution_count": 62,
   "id": "33f5c1b6-f53e-4232-a074-9ee0ac30ae84",
   "metadata": {},
   "outputs": [
    {
     "data": {
      "text/html": [
       "<div>\n",
       "<style scoped>\n",
       "    .dataframe tbody tr th:only-of-type {\n",
       "        vertical-align: middle;\n",
       "    }\n",
       "\n",
       "    .dataframe tbody tr th {\n",
       "        vertical-align: top;\n",
       "    }\n",
       "\n",
       "    .dataframe thead th {\n",
       "        text-align: right;\n",
       "    }\n",
       "</style>\n",
       "<table border=\"1\" class=\"dataframe\">\n",
       "  <thead>\n",
       "    <tr style=\"text-align: right;\">\n",
       "      <th></th>\n",
       "      <th>city</th>\n",
       "      <th>country</th>\n",
       "      <th>pop</th>\n",
       "      <th>lat</th>\n",
       "      <th>lon</th>\n",
       "      <th>capital</th>\n",
       "    </tr>\n",
       "  </thead>\n",
       "  <tbody>\n",
       "    <tr>\n",
       "      <th>0</th>\n",
       "      <td>'Abasan al-Jadidah</td>\n",
       "      <td>Palestine</td>\n",
       "      <td>5629</td>\n",
       "      <td>31.31</td>\n",
       "      <td>34.34</td>\n",
       "      <td>0</td>\n",
       "    </tr>\n",
       "    <tr>\n",
       "      <th>1</th>\n",
       "      <td>'Abasan al-Kabirah</td>\n",
       "      <td>Palestine</td>\n",
       "      <td>18999</td>\n",
       "      <td>31.32</td>\n",
       "      <td>34.35</td>\n",
       "      <td>0</td>\n",
       "    </tr>\n",
       "    <tr>\n",
       "      <th>2</th>\n",
       "      <td>'Abdul Hakim</td>\n",
       "      <td>Pakistan</td>\n",
       "      <td>47788</td>\n",
       "      <td>30.55</td>\n",
       "      <td>72.11</td>\n",
       "      <td>0</td>\n",
       "    </tr>\n",
       "    <tr>\n",
       "      <th>3</th>\n",
       "      <td>'Abdullah-as-Salam</td>\n",
       "      <td>Kuwait</td>\n",
       "      <td>21817</td>\n",
       "      <td>29.36</td>\n",
       "      <td>47.98</td>\n",
       "      <td>0</td>\n",
       "    </tr>\n",
       "    <tr>\n",
       "      <th>4</th>\n",
       "      <td>'Abud</td>\n",
       "      <td>Palestine</td>\n",
       "      <td>2456</td>\n",
       "      <td>32.03</td>\n",
       "      <td>35.07</td>\n",
       "      <td>0</td>\n",
       "    </tr>\n",
       "    <tr>\n",
       "      <th>5</th>\n",
       "      <td>'Abwein</td>\n",
       "      <td>Palestine</td>\n",
       "      <td>3434</td>\n",
       "      <td>32.03</td>\n",
       "      <td>35.20</td>\n",
       "      <td>0</td>\n",
       "    </tr>\n",
       "    <tr>\n",
       "      <th>6</th>\n",
       "      <td>'Adadlay</td>\n",
       "      <td>Somalia</td>\n",
       "      <td>9198</td>\n",
       "      <td>9.77</td>\n",
       "      <td>44.65</td>\n",
       "      <td>0</td>\n",
       "    </tr>\n",
       "    <tr>\n",
       "      <th>7</th>\n",
       "      <td>'Adale</td>\n",
       "      <td>Somalia</td>\n",
       "      <td>5492</td>\n",
       "      <td>2.75</td>\n",
       "      <td>46.30</td>\n",
       "      <td>0</td>\n",
       "    </tr>\n",
       "    <tr>\n",
       "      <th>8</th>\n",
       "      <td>'Afak</td>\n",
       "      <td>Iraq</td>\n",
       "      <td>22706</td>\n",
       "      <td>32.07</td>\n",
       "      <td>45.26</td>\n",
       "      <td>0</td>\n",
       "    </tr>\n",
       "    <tr>\n",
       "      <th>9</th>\n",
       "      <td>'Afif</td>\n",
       "      <td>Saudi Arabia</td>\n",
       "      <td>41731</td>\n",
       "      <td>23.92</td>\n",
       "      <td>42.93</td>\n",
       "      <td>0</td>\n",
       "    </tr>\n",
       "  </tbody>\n",
       "</table>\n",
       "</div>"
      ],
      "text/plain": [
       "                 city       country    pop    lat    lon  capital\n",
       "0  'Abasan al-Jadidah     Palestine   5629  31.31  34.34        0\n",
       "1  'Abasan al-Kabirah     Palestine  18999  31.32  34.35        0\n",
       "2        'Abdul Hakim      Pakistan  47788  30.55  72.11        0\n",
       "3  'Abdullah-as-Salam        Kuwait  21817  29.36  47.98        0\n",
       "4               'Abud     Palestine   2456  32.03  35.07        0\n",
       "5             'Abwein     Palestine   3434  32.03  35.20        0\n",
       "6            'Adadlay       Somalia   9198   9.77  44.65        0\n",
       "7              'Adale       Somalia   5492   2.75  46.30        0\n",
       "8               'Afak          Iraq  22706  32.07  45.26        0\n",
       "9               'Afif  Saudi Arabia  41731  23.92  42.93        0"
      ]
     },
     "execution_count": 62,
     "metadata": {},
     "output_type": "execute_result"
    }
   ],
   "source": [
    "cities_df = pd.read_csv(\"Assignment 2 Data/world_cities.csv\", sep=\",\", header=0)\n",
    "cities_df.head(10)"
   ]
  },
  {
   "cell_type": "code",
   "execution_count": 66,
   "id": "e0fc0221-b2d4-48c7-87b0-29857edd1241",
   "metadata": {},
   "outputs": [
    {
     "name": "stdout",
     "output_type": "stream",
     "text": [
      "                     city       country     pop    lat    lon  capital  \\\n",
      "0      'Abasan al-Jadidah     Palestine    5629  31.31  34.34        0   \n",
      "1      'Abasan al-Kabirah     Palestine   18999  31.32  34.35        0   \n",
      "2            'Abdul Hakim      Pakistan   47788  30.55  72.11        0   \n",
      "3      'Abdullah-as-Salam        Kuwait   21817  29.36  47.98        0   \n",
      "4                   'Abud     Palestine    2456  32.03  35.07        0   \n",
      "...                   ...           ...     ...    ...    ...      ...   \n",
      "43640           az-Zubayr          Iraq  124611  30.39  47.71        0   \n",
      "43641            az-Zulfi  Saudi Arabia   54070  26.30  44.80        0   \n",
      "43642       az-Zuwaytinah         Libya   21984  30.95  20.12        0   \n",
      "43643        s-Gravenhage   Netherlands  479525  52.07   4.30        0   \n",
      "43644     s-Hertogenbosch   Netherlands  135529  51.68   5.30        0   \n",
      "\n",
      "          pop_M  \n",
      "0      0.005629  \n",
      "1      0.018999  \n",
      "2      0.047788  \n",
      "3      0.021817  \n",
      "4      0.002456  \n",
      "...         ...  \n",
      "43640  0.124611  \n",
      "43641  0.054070  \n",
      "43642  0.021984  \n",
      "43643  0.479525  \n",
      "43644  0.135529  \n",
      "\n",
      "[43645 rows x 7 columns]\n"
     ]
    }
   ],
   "source": [
    "#Creating a new column pop_M in millions\n",
    "cities_df['pop_M'] = cities_df['pop']/1000000"
   ]
  },
  {
   "cell_type": "code",
   "execution_count": 69,
   "id": "0fa00188-6b48-4418-8ecc-a9985bbf7bf1",
   "metadata": {},
   "outputs": [
    {
     "ename": "KeyError",
     "evalue": "\"['pop'] not found in axis\"",
     "output_type": "error",
     "traceback": [
      "\u001b[1;31m---------------------------------------------------------------------------\u001b[0m",
      "\u001b[1;31mKeyError\u001b[0m                                  Traceback (most recent call last)",
      "Cell \u001b[1;32mIn[69], line 1\u001b[0m\n\u001b[1;32m----> 1\u001b[0m cities_df \u001b[38;5;241m=\u001b[39m \u001b[43mcities_df\u001b[49m\u001b[38;5;241;43m.\u001b[39;49m\u001b[43mdrop\u001b[49m\u001b[43m(\u001b[49m\u001b[38;5;124;43m'\u001b[39;49m\u001b[38;5;124;43mpop\u001b[39;49m\u001b[38;5;124;43m'\u001b[39;49m\u001b[43m,\u001b[49m\u001b[43m \u001b[49m\u001b[43maxis\u001b[49m\u001b[38;5;241;43m=\u001b[39;49m\u001b[38;5;241;43m1\u001b[39;49m\u001b[43m)\u001b[49m\n\u001b[0;32m      2\u001b[0m \u001b[38;5;28mprint\u001b[39m(cities_df)\n",
      "File \u001b[1;32m~\\miniconda3\\envs\\py4sa\\lib\\site-packages\\pandas\\util\\_decorators.py:331\u001b[0m, in \u001b[0;36mdeprecate_nonkeyword_arguments.<locals>.decorate.<locals>.wrapper\u001b[1;34m(*args, **kwargs)\u001b[0m\n\u001b[0;32m    325\u001b[0m \u001b[38;5;28;01mif\u001b[39;00m \u001b[38;5;28mlen\u001b[39m(args) \u001b[38;5;241m>\u001b[39m num_allow_args:\n\u001b[0;32m    326\u001b[0m     warnings\u001b[38;5;241m.\u001b[39mwarn(\n\u001b[0;32m    327\u001b[0m         msg\u001b[38;5;241m.\u001b[39mformat(arguments\u001b[38;5;241m=\u001b[39m_format_argument_list(allow_args)),\n\u001b[0;32m    328\u001b[0m         \u001b[38;5;167;01mFutureWarning\u001b[39;00m,\n\u001b[0;32m    329\u001b[0m         stacklevel\u001b[38;5;241m=\u001b[39mfind_stack_level(),\n\u001b[0;32m    330\u001b[0m     )\n\u001b[1;32m--> 331\u001b[0m \u001b[38;5;28;01mreturn\u001b[39;00m func(\u001b[38;5;241m*\u001b[39margs, \u001b[38;5;241m*\u001b[39m\u001b[38;5;241m*\u001b[39mkwargs)\n",
      "File \u001b[1;32m~\\miniconda3\\envs\\py4sa\\lib\\site-packages\\pandas\\core\\frame.py:5399\u001b[0m, in \u001b[0;36mDataFrame.drop\u001b[1;34m(self, labels, axis, index, columns, level, inplace, errors)\u001b[0m\n\u001b[0;32m   5251\u001b[0m \u001b[38;5;129m@deprecate_nonkeyword_arguments\u001b[39m(version\u001b[38;5;241m=\u001b[39m\u001b[38;5;28;01mNone\u001b[39;00m, allowed_args\u001b[38;5;241m=\u001b[39m[\u001b[38;5;124m\"\u001b[39m\u001b[38;5;124mself\u001b[39m\u001b[38;5;124m\"\u001b[39m, \u001b[38;5;124m\"\u001b[39m\u001b[38;5;124mlabels\u001b[39m\u001b[38;5;124m\"\u001b[39m])\n\u001b[0;32m   5252\u001b[0m \u001b[38;5;28;01mdef\u001b[39;00m \u001b[38;5;21mdrop\u001b[39m(  \u001b[38;5;66;03m# type: ignore[override]\u001b[39;00m\n\u001b[0;32m   5253\u001b[0m     \u001b[38;5;28mself\u001b[39m,\n\u001b[1;32m   (...)\u001b[0m\n\u001b[0;32m   5260\u001b[0m     errors: IgnoreRaise \u001b[38;5;241m=\u001b[39m \u001b[38;5;124m\"\u001b[39m\u001b[38;5;124mraise\u001b[39m\u001b[38;5;124m\"\u001b[39m,\n\u001b[0;32m   5261\u001b[0m ) \u001b[38;5;241m-\u001b[39m\u001b[38;5;241m>\u001b[39m DataFrame \u001b[38;5;241m|\u001b[39m \u001b[38;5;28;01mNone\u001b[39;00m:\n\u001b[0;32m   5262\u001b[0m \u001b[38;5;250m    \u001b[39m\u001b[38;5;124;03m\"\"\"\u001b[39;00m\n\u001b[0;32m   5263\u001b[0m \u001b[38;5;124;03m    Drop specified labels from rows or columns.\u001b[39;00m\n\u001b[0;32m   5264\u001b[0m \n\u001b[1;32m   (...)\u001b[0m\n\u001b[0;32m   5397\u001b[0m \u001b[38;5;124;03m            weight  1.0     0.8\u001b[39;00m\n\u001b[0;32m   5398\u001b[0m \u001b[38;5;124;03m    \"\"\"\u001b[39;00m\n\u001b[1;32m-> 5399\u001b[0m     \u001b[38;5;28;01mreturn\u001b[39;00m \u001b[38;5;28;43msuper\u001b[39;49m\u001b[43m(\u001b[49m\u001b[43m)\u001b[49m\u001b[38;5;241;43m.\u001b[39;49m\u001b[43mdrop\u001b[49m\u001b[43m(\u001b[49m\n\u001b[0;32m   5400\u001b[0m \u001b[43m        \u001b[49m\u001b[43mlabels\u001b[49m\u001b[38;5;241;43m=\u001b[39;49m\u001b[43mlabels\u001b[49m\u001b[43m,\u001b[49m\n\u001b[0;32m   5401\u001b[0m \u001b[43m        \u001b[49m\u001b[43maxis\u001b[49m\u001b[38;5;241;43m=\u001b[39;49m\u001b[43maxis\u001b[49m\u001b[43m,\u001b[49m\n\u001b[0;32m   5402\u001b[0m \u001b[43m        \u001b[49m\u001b[43mindex\u001b[49m\u001b[38;5;241;43m=\u001b[39;49m\u001b[43mindex\u001b[49m\u001b[43m,\u001b[49m\n\u001b[0;32m   5403\u001b[0m \u001b[43m        \u001b[49m\u001b[43mcolumns\u001b[49m\u001b[38;5;241;43m=\u001b[39;49m\u001b[43mcolumns\u001b[49m\u001b[43m,\u001b[49m\n\u001b[0;32m   5404\u001b[0m \u001b[43m        \u001b[49m\u001b[43mlevel\u001b[49m\u001b[38;5;241;43m=\u001b[39;49m\u001b[43mlevel\u001b[49m\u001b[43m,\u001b[49m\n\u001b[0;32m   5405\u001b[0m \u001b[43m        \u001b[49m\u001b[43minplace\u001b[49m\u001b[38;5;241;43m=\u001b[39;49m\u001b[43minplace\u001b[49m\u001b[43m,\u001b[49m\n\u001b[0;32m   5406\u001b[0m \u001b[43m        \u001b[49m\u001b[43merrors\u001b[49m\u001b[38;5;241;43m=\u001b[39;49m\u001b[43merrors\u001b[49m\u001b[43m,\u001b[49m\n\u001b[0;32m   5407\u001b[0m \u001b[43m    \u001b[49m\u001b[43m)\u001b[49m\n",
      "File \u001b[1;32m~\\miniconda3\\envs\\py4sa\\lib\\site-packages\\pandas\\util\\_decorators.py:331\u001b[0m, in \u001b[0;36mdeprecate_nonkeyword_arguments.<locals>.decorate.<locals>.wrapper\u001b[1;34m(*args, **kwargs)\u001b[0m\n\u001b[0;32m    325\u001b[0m \u001b[38;5;28;01mif\u001b[39;00m \u001b[38;5;28mlen\u001b[39m(args) \u001b[38;5;241m>\u001b[39m num_allow_args:\n\u001b[0;32m    326\u001b[0m     warnings\u001b[38;5;241m.\u001b[39mwarn(\n\u001b[0;32m    327\u001b[0m         msg\u001b[38;5;241m.\u001b[39mformat(arguments\u001b[38;5;241m=\u001b[39m_format_argument_list(allow_args)),\n\u001b[0;32m    328\u001b[0m         \u001b[38;5;167;01mFutureWarning\u001b[39;00m,\n\u001b[0;32m    329\u001b[0m         stacklevel\u001b[38;5;241m=\u001b[39mfind_stack_level(),\n\u001b[0;32m    330\u001b[0m     )\n\u001b[1;32m--> 331\u001b[0m \u001b[38;5;28;01mreturn\u001b[39;00m func(\u001b[38;5;241m*\u001b[39margs, \u001b[38;5;241m*\u001b[39m\u001b[38;5;241m*\u001b[39mkwargs)\n",
      "File \u001b[1;32m~\\miniconda3\\envs\\py4sa\\lib\\site-packages\\pandas\\core\\generic.py:4505\u001b[0m, in \u001b[0;36mNDFrame.drop\u001b[1;34m(self, labels, axis, index, columns, level, inplace, errors)\u001b[0m\n\u001b[0;32m   4503\u001b[0m \u001b[38;5;28;01mfor\u001b[39;00m axis, labels \u001b[38;5;129;01min\u001b[39;00m axes\u001b[38;5;241m.\u001b[39mitems():\n\u001b[0;32m   4504\u001b[0m     \u001b[38;5;28;01mif\u001b[39;00m labels \u001b[38;5;129;01mis\u001b[39;00m \u001b[38;5;129;01mnot\u001b[39;00m \u001b[38;5;28;01mNone\u001b[39;00m:\n\u001b[1;32m-> 4505\u001b[0m         obj \u001b[38;5;241m=\u001b[39m \u001b[43mobj\u001b[49m\u001b[38;5;241;43m.\u001b[39;49m\u001b[43m_drop_axis\u001b[49m\u001b[43m(\u001b[49m\u001b[43mlabels\u001b[49m\u001b[43m,\u001b[49m\u001b[43m \u001b[49m\u001b[43maxis\u001b[49m\u001b[43m,\u001b[49m\u001b[43m \u001b[49m\u001b[43mlevel\u001b[49m\u001b[38;5;241;43m=\u001b[39;49m\u001b[43mlevel\u001b[49m\u001b[43m,\u001b[49m\u001b[43m \u001b[49m\u001b[43merrors\u001b[49m\u001b[38;5;241;43m=\u001b[39;49m\u001b[43merrors\u001b[49m\u001b[43m)\u001b[49m\n\u001b[0;32m   4507\u001b[0m \u001b[38;5;28;01mif\u001b[39;00m inplace:\n\u001b[0;32m   4508\u001b[0m     \u001b[38;5;28mself\u001b[39m\u001b[38;5;241m.\u001b[39m_update_inplace(obj)\n",
      "File \u001b[1;32m~\\miniconda3\\envs\\py4sa\\lib\\site-packages\\pandas\\core\\generic.py:4546\u001b[0m, in \u001b[0;36mNDFrame._drop_axis\u001b[1;34m(self, labels, axis, level, errors, only_slice)\u001b[0m\n\u001b[0;32m   4544\u001b[0m         new_axis \u001b[38;5;241m=\u001b[39m axis\u001b[38;5;241m.\u001b[39mdrop(labels, level\u001b[38;5;241m=\u001b[39mlevel, errors\u001b[38;5;241m=\u001b[39merrors)\n\u001b[0;32m   4545\u001b[0m     \u001b[38;5;28;01melse\u001b[39;00m:\n\u001b[1;32m-> 4546\u001b[0m         new_axis \u001b[38;5;241m=\u001b[39m \u001b[43maxis\u001b[49m\u001b[38;5;241;43m.\u001b[39;49m\u001b[43mdrop\u001b[49m\u001b[43m(\u001b[49m\u001b[43mlabels\u001b[49m\u001b[43m,\u001b[49m\u001b[43m \u001b[49m\u001b[43merrors\u001b[49m\u001b[38;5;241;43m=\u001b[39;49m\u001b[43merrors\u001b[49m\u001b[43m)\u001b[49m\n\u001b[0;32m   4547\u001b[0m     indexer \u001b[38;5;241m=\u001b[39m axis\u001b[38;5;241m.\u001b[39mget_indexer(new_axis)\n\u001b[0;32m   4549\u001b[0m \u001b[38;5;66;03m# Case for non-unique axis\u001b[39;00m\n\u001b[0;32m   4550\u001b[0m \u001b[38;5;28;01melse\u001b[39;00m:\n",
      "File \u001b[1;32m~\\miniconda3\\envs\\py4sa\\lib\\site-packages\\pandas\\core\\indexes\\base.py:6934\u001b[0m, in \u001b[0;36mIndex.drop\u001b[1;34m(self, labels, errors)\u001b[0m\n\u001b[0;32m   6932\u001b[0m \u001b[38;5;28;01mif\u001b[39;00m mask\u001b[38;5;241m.\u001b[39many():\n\u001b[0;32m   6933\u001b[0m     \u001b[38;5;28;01mif\u001b[39;00m errors \u001b[38;5;241m!=\u001b[39m \u001b[38;5;124m\"\u001b[39m\u001b[38;5;124mignore\u001b[39m\u001b[38;5;124m\"\u001b[39m:\n\u001b[1;32m-> 6934\u001b[0m         \u001b[38;5;28;01mraise\u001b[39;00m \u001b[38;5;167;01mKeyError\u001b[39;00m(\u001b[38;5;124mf\u001b[39m\u001b[38;5;124m\"\u001b[39m\u001b[38;5;132;01m{\u001b[39;00m\u001b[38;5;28mlist\u001b[39m(labels[mask])\u001b[38;5;132;01m}\u001b[39;00m\u001b[38;5;124m not found in axis\u001b[39m\u001b[38;5;124m\"\u001b[39m)\n\u001b[0;32m   6935\u001b[0m     indexer \u001b[38;5;241m=\u001b[39m indexer[\u001b[38;5;241m~\u001b[39mmask]\n\u001b[0;32m   6936\u001b[0m \u001b[38;5;28;01mreturn\u001b[39;00m \u001b[38;5;28mself\u001b[39m\u001b[38;5;241m.\u001b[39mdelete(indexer)\n",
      "\u001b[1;31mKeyError\u001b[0m: \"['pop'] not found in axis\""
     ]
    }
   ],
   "source": [
    "#Removing the pop column\n",
    "cities_df = cities_df.drop('pop', axis=1)"
   ]
  },
  {
   "cell_type": "code",
   "execution_count": 72,
   "id": "904be808-5f8c-42e8-ae65-d536e18d147c",
   "metadata": {},
   "outputs": [
    {
     "name": "stdout",
     "output_type": "stream",
     "text": [
      "           city country   lat   lon  capital     pop_M\n",
      "15656  Istanbul  Turkey  41.1  29.0        0  10.03483\n"
     ]
    }
   ],
   "source": [
    "#Istanbul city\n",
    "instanbul_data = cities_df[cities_df['city'] == 'Istanbul']\n",
    "print(instanbul_data)"
   ]
  },
  {
   "cell_type": "code",
   "execution_count": 77,
   "id": "9b4a2602-0ed0-401a-b169-d92a0396729e",
   "metadata": {},
   "outputs": [
    {
     "data": {
      "text/html": [
       "<div>\n",
       "<style scoped>\n",
       "    .dataframe tbody tr th:only-of-type {\n",
       "        vertical-align: middle;\n",
       "    }\n",
       "\n",
       "    .dataframe tbody tr th {\n",
       "        vertical-align: top;\n",
       "    }\n",
       "\n",
       "    .dataframe thead th {\n",
       "        text-align: right;\n",
       "    }\n",
       "</style>\n",
       "<table border=\"1\" class=\"dataframe\">\n",
       "  <thead>\n",
       "    <tr style=\"text-align: right;\">\n",
       "      <th></th>\n",
       "      <th>city</th>\n",
       "      <th>country</th>\n",
       "      <th>lat</th>\n",
       "      <th>lon</th>\n",
       "      <th>capital</th>\n",
       "      <th>pop_M</th>\n",
       "    </tr>\n",
       "  </thead>\n",
       "  <tbody>\n",
       "    <tr>\n",
       "      <th>15656</th>\n",
       "      <td>Istanbul</td>\n",
       "      <td>Turkey</td>\n",
       "      <td>41.10</td>\n",
       "      <td>29.00</td>\n",
       "      <td>0</td>\n",
       "      <td>10.034830</td>\n",
       "    </tr>\n",
       "    <tr>\n",
       "      <th>1515</th>\n",
       "      <td>Ankara</td>\n",
       "      <td>Turkey</td>\n",
       "      <td>39.93</td>\n",
       "      <td>32.85</td>\n",
       "      <td>1</td>\n",
       "      <td>3.579706</td>\n",
       "    </tr>\n",
       "    <tr>\n",
       "      <th>15819</th>\n",
       "      <td>Izmir</td>\n",
       "      <td>Turkey</td>\n",
       "      <td>38.43</td>\n",
       "      <td>27.15</td>\n",
       "      <td>0</td>\n",
       "      <td>2.557851</td>\n",
       "    </tr>\n",
       "    <tr>\n",
       "      <th>5843</th>\n",
       "      <td>Bursa</td>\n",
       "      <td>Turkey</td>\n",
       "      <td>40.20</td>\n",
       "      <td>29.08</td>\n",
       "      <td>0</td>\n",
       "      <td>1.458459</td>\n",
       "    </tr>\n",
       "    <tr>\n",
       "      <th>367</th>\n",
       "      <td>Adana</td>\n",
       "      <td>Turkey</td>\n",
       "      <td>37.00</td>\n",
       "      <td>35.32</td>\n",
       "      <td>0</td>\n",
       "      <td>1.271894</td>\n",
       "    </tr>\n",
       "  </tbody>\n",
       "</table>\n",
       "</div>"
      ],
      "text/plain": [
       "           city country    lat    lon  capital      pop_M\n",
       "15656  Istanbul  Turkey  41.10  29.00        0  10.034830\n",
       "1515     Ankara  Turkey  39.93  32.85        1   3.579706\n",
       "15819     Izmir  Turkey  38.43  27.15        0   2.557851\n",
       "5843      Bursa  Turkey  40.20  29.08        0   1.458459\n",
       "367       Adana  Turkey  37.00  35.32        0   1.271894"
      ]
     },
     "execution_count": 77,
     "metadata": {},
     "output_type": "execute_result"
    }
   ],
   "source": [
    "#Subsetting the biggest 5 cities in Turkey\n",
    "(cities_df.query(\"country == 'Turkey'\")\n",
    "   .sort_values(by=\"pop_M\", ascending=False)\n",
    "   .head(5))"
   ]
  },
  {
   "cell_type": "markdown",
   "id": "b0a5228d-d96b-4a5f-a3be-233981e05f66",
   "metadata": {},
   "source": [
    "**Python Data Visualisation**"
   ]
  },
  {
   "cell_type": "markdown",
   "id": "c0c1d1de-2292-428e-98f3-860b1dff9228",
   "metadata": {},
   "source": [
    "Graph 1: Create a scatterplot for just trees in the Ulmus genus with DBH mapped to the x-axis \n",
    "and tree height mapped to the y-axis (Hint: You will need to use the “Genus”, “DBH”, and \n",
    "“TreeHeight” attributes.)."
   ]
  },
  {
   "cell_type": "code",
   "execution_count": null,
   "id": "a31b3e45-bda4-4218-ad4f-c4e867e90a09",
   "metadata": {},
   "outputs": [],
   "source": []
  },
  {
   "cell_type": "markdown",
   "id": "b863e2b0-b372-4c39-8320-d4ec69f679a2",
   "metadata": {},
   "source": [
    "Graph 2: Create a scatterplot for just trees in the Ulmus genus with DBH mapped to the x-axis, tree \n",
    "height mapped to the y-axis, and tree species mapped to hue (Hint: You will need to use the \n",
    "“Genus”, “Genus_spec”, “DBH”, and “TreeHeight” attributes.)\n"
   ]
  },
  {
   "cell_type": "code",
   "execution_count": null,
   "id": "4b95e07a-99a1-4408-b422-46445dd2f440",
   "metadata": {},
   "outputs": [],
   "source": []
  },
  {
   "cell_type": "markdown",
   "id": "8307525c-3fe7-475c-9379-dddb7427a0f6",
   "metadata": {},
   "source": [
    "Graph 3: Create a boxplot of DBH for just the Ulmus genus differentiated by species (or, each species \n",
    "should have its own boxplot)"
   ]
  },
  {
   "cell_type": "code",
   "execution_count": null,
   "id": "9ae36ef6-f2dc-4585-86f1-700e2411d355",
   "metadata": {},
   "outputs": [],
   "source": []
  },
  {
   "cell_type": "markdown",
   "id": "bac2c652-fa69-44a4-ac70-a5623d68ead5",
   "metadata": {},
   "source": [
    "Graph 4: Combine Graphs 1 and 3 into a single figure. Do not plot a legend for any of the graphs.\n"
   ]
  },
  {
   "cell_type": "code",
   "execution_count": null,
   "id": "37c6a03d-bbd7-41cd-b264-fdf408efeb87",
   "metadata": {},
   "outputs": [],
   "source": []
  }
 ],
 "metadata": {
  "kernelspec": {
   "display_name": "Python 3 (ipykernel)",
   "language": "python",
   "name": "python3"
  },
  "language_info": {
   "codemirror_mode": {
    "name": "ipython",
    "version": 3
   },
   "file_extension": ".py",
   "mimetype": "text/x-python",
   "name": "python",
   "nbconvert_exporter": "python",
   "pygments_lexer": "ipython3",
   "version": "3.10.9"
  }
 },
 "nbformat": 4,
 "nbformat_minor": 5
}
